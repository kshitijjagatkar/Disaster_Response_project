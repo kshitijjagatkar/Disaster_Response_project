{
  "nbformat": 4,
  "nbformat_minor": 0,
  "metadata": {
    "kernelspec": {
      "display_name": "Python 3",
      "language": "python",
      "name": "python3"
    },
    "language_info": {
      "codemirror_mode": {
        "name": "ipython",
        "version": 3
      },
      "file_extension": ".py",
      "mimetype": "text/x-python",
      "name": "python",
      "nbconvert_exporter": "python",
      "pygments_lexer": "ipython3",
      "version": "3.7.10"
    },
    "colab": {
      "name": "ML Pipeline Preparation.ipynb",
      "provenance": []
    }
  },
  "cells": [
    {
      "cell_type": "markdown",
      "metadata": {
        "id": "Y0crMkI1p-WI"
      },
      "source": [
        "# ML Pipeline Preparation\n",
        "Follow the instructions below to help you create your ML pipeline.\n",
        "### 1. Import libraries and load data from database.\n",
        "- Import Python libraries\n",
        "- Load dataset from database with [`read_sql_table`](https://pandas.pydata.org/pandas-docs/stable/generated/pandas.read_sql_table.html)\n",
        "- Define feature and target variables X and Y"
      ]
    },
    {
      "cell_type": "code",
      "metadata": {
        "colab": {
          "base_uri": "https://localhost:8080/"
        },
        "id": "5UnSKYCGAJSS",
        "outputId": "0e7184bf-805f-4fd3-bcc7-4e038546b5ec"
      },
      "source": [
        "# import libraries\n",
        "import pandas as pd\n",
        "import numpy as np\n",
        "from sqlalchemy import create_engine\n",
        "import sqlite3\n",
        "\n",
        "import nltk\n",
        "\n",
        "nltk.download(['punkt','wordnet','averaged_perceptron_tagger','stopwords'])\n",
        "\n",
        "from nltk.tokenize import word_tokenize\n",
        "from nltk.stem import WordNetLemmatizer\n",
        "from nltk.corpus import stopwords\n",
        "\n",
        "from sklearn.metrics import confusion_matrix\n",
        "from sklearn.model_selection import GridSearchCV\n",
        "from sklearn.ensemble import RandomForestClassifier\n",
        "from sklearn.pipeline import Pipeline, FeatureUnion\n",
        "from sklearn.model_selection import train_test_split\n",
        "from sklearn.feature_extraction.text import CountVectorizer, TfidfTransformer\n",
        "\n",
        "from sklearn.datasets import make_multilabel_classification\n",
        "from sklearn.multioutput import MultiOutputClassifier\n",
        "from sklearn.neighbors import KNeighborsClassifier\n",
        "from sklearn.metrics import classification_report"
      ],
      "execution_count": 1,
      "outputs": [
        {
          "output_type": "stream",
          "text": [
            "[nltk_data] Downloading package punkt to /root/nltk_data...\n",
            "[nltk_data]   Unzipping tokenizers/punkt.zip.\n",
            "[nltk_data] Downloading package wordnet to /root/nltk_data...\n",
            "[nltk_data]   Unzipping corpora/wordnet.zip.\n",
            "[nltk_data] Downloading package averaged_perceptron_tagger to\n",
            "[nltk_data]     /root/nltk_data...\n",
            "[nltk_data]   Unzipping taggers/averaged_perceptron_tagger.zip.\n",
            "[nltk_data] Downloading package stopwords to /root/nltk_data...\n",
            "[nltk_data]   Unzipping corpora/stopwords.zip.\n"
          ],
          "name": "stdout"
        }
      ]
    },
    {
      "cell_type": "code",
      "metadata": {
        "colab": {
          "base_uri": "https://localhost:8080/"
        },
        "id": "WQTzAL-1hPTi",
        "outputId": "f8d8b41f-4a5c-450c-fe2c-f2b48726c94d"
      },
      "source": [
        "from google.colab import drive\n",
        "drive.mount('/content/drive')"
      ],
      "execution_count": 2,
      "outputs": [
        {
          "output_type": "stream",
          "text": [
            "Mounted at /content/drive\n"
          ],
          "name": "stdout"
        }
      ]
    },
    {
      "cell_type": "code",
      "metadata": {
        "id": "YcS3e-EsGUJk"
      },
      "source": [
        "conn = sqlite3.connect(\"/content/drive/MyDrive/disaster respose project/dsrDB.db\")"
      ],
      "execution_count": 3,
      "outputs": []
    },
    {
      "cell_type": "code",
      "metadata": {
        "id": "QNu_5Obfgnu_"
      },
      "source": [
        "df = pd.read_sql(\"SELECT * FROM msg_cat\",conn)"
      ],
      "execution_count": 15,
      "outputs": []
    },
    {
      "cell_type": "code",
      "metadata": {
        "colab": {
          "base_uri": "https://localhost:8080/"
        },
        "id": "NKTkAcijp-Wu",
        "outputId": "74c78636-105f-43a9-ab84-6b2c9565ae7d"
      },
      "source": [
        "# import libraries\n",
        "import pandas as pd\n",
        "import numpy as np\n",
        "from sqlalchemy import create_engine\n",
        "import sqlite3\n",
        "\n",
        "\n",
        "import nltk\n",
        "\n",
        "nltk.download(['punkt','wordnet','averaged_perceptron_tagger','stopwords'])\n",
        "\n",
        "from nltk.tokenize import word_tokenize\n",
        "from nltk.stem import WordNetLemmatizer\n",
        "from nltk.corpus import stopwords\n",
        "\n",
        "from sklearn.metrics import confusion_matrix\n",
        "from sklearn.model_selection import GridSearchCV\n",
        "from sklearn.ensemble import RandomForestClassifier\n",
        "from sklearn.pipeline import Pipeline, FeatureUnion\n",
        "from sklearn.model_selection import train_test_split\n",
        "from sklearn.feature_extraction.text import CountVectorizer, TfidfTransformer\n",
        "\n",
        "from sklearn.datasets import make_multilabel_classification\n",
        "from sklearn.multioutput import MultiOutputClassifier\n",
        "from sklearn.neighbors import KNeighborsClassifier\n",
        "from sklearn.metrics import classification_report\n",
        "\n",
        "def load_data():\n",
        "    \n",
        "    #create an engine and extract data from sql\n",
        "    print(\"\\n\")\n",
        "    print(\"Loading data into DataFrame\")\n",
        "    df = pd.read_sql(\"SELECT * FROM msg_cat\",conn)\n",
        "    \n",
        "    \n",
        "    #preparing data\n",
        "    print()\n",
        "    print(\"preparing data...\")\n",
        "    target_cols = df.drop(columns = ['index','id','message','original','genre','genre'])\n",
        "    for col in target_cols.columns:\n",
        "        print(\"unique values in all columns:\", df[col].unique(),end=\"\")\n",
        "    target_cols.related.replace(2,1,inplace=True)\n",
        "    print(\"\\n\")\n",
        "    print(\"\\n after replacing 2 by 1\",target_cols.related.unique())\n",
        "    \n",
        "    #Making X and y variables\n",
        "    X = df.message.values\n",
        "    y = target_cols.values\n",
        "\n",
        "    print(\"returned X, y & df varibales\")\n",
        "    \n",
        "    return X,y,df\n",
        "\n",
        "def tokenize(text):\n",
        "    \n",
        "    \n",
        "    tokens = word_tokenize(text)\n",
        "    stop_words = stopwords.words(\"english\")\n",
        "    lemmatizer = WordNetLemmatizer()\n",
        "    \n",
        "    clean_tokens = [lemmatizer.lemmatize(word).lower().strip() for word in tokens if word not in stop_words]\n",
        "    \n",
        "    \n",
        "    return clean_tokens\n",
        "\n",
        "def build_model():\n",
        "\n",
        "    \n",
        "    pipeline = Pipeline([\n",
        "        ('vect', CountVectorizer(tokenizer = tokenize)),\n",
        "        ('tfidf', TfidfTransformer()),\n",
        "        ('clf', MultiOutputClassifier(KNeighborsClassifier()))\n",
        "    ])\n",
        "    \n",
        "        #set gridsearch parameters \n",
        "    parameters = {\n",
        "      \n",
        "        'clf__estimator__n_neighbors': (1,2,3),\n",
        "        'clf__n_jobs': (-1,1)\n",
        "    }\n",
        "    cv = GridSearchCV(pipeline, param_grid=parameters)\n",
        "\n",
        "    return cv\n",
        "    \n",
        "def display_results(cv, df, y_test, y_pred):\n",
        "\n",
        "    print(\"\\n\")\n",
        "    print(\"Displaying Results...\")\n",
        "    target_names = [col for col in df.columns if col not in ['index','id', 'message', 'original', 'genre']]\n",
        "    accuracy = (y_pred == y_test).mean()\n",
        "\n",
        "    print()    \n",
        "    print(\"Accuracy:\", accuracy)\n",
        "    print('\\n')\n",
        "    print(\"\\nBest Parameters:\", cv.best_params_)\n",
        "    \n",
        "    print('\\n Classification Report')\n",
        "    print(classification_report(y_test, y_pred, target_names=target_names))\n",
        "    \n",
        "def main():\n",
        "    X, y, df = load_data()\n",
        "    X_train, X_test, y_train, y_test = train_test_split(X, y,test_size =.2, random_state=42)\n",
        "    \n",
        "    print(\"\\n\")\n",
        "    print(\"Started tokenizing...\")\n",
        "    print(\"\\n\")\n",
        "    print(\"Cleaning tokens...\")\n",
        "    model = build_model()\n",
        "\n",
        "    print(\"\\n\")\n",
        "    print(\"Returned Clean Tokens\")\n",
        "    print(\"\\n\")\n",
        "    print(\"Started Training Models...\")\n",
        "    \n",
        "    model.fit(X_train, y_train)\n",
        "\n",
        "    print(\"\\n\")\n",
        "    print(\"Model Returned...\")\n",
        "    print(\"\\n\")\n",
        "    print(\"Predicting Model...\")\n",
        "    y_pred = model.predict(X_test)\n",
        "\n",
        "    display_results(model, df, y_test, y_pred)\n",
        "\n",
        "main()"
      ],
      "execution_count": 20,
      "outputs": [
        {
          "output_type": "stream",
          "text": [
            "[nltk_data] Downloading package punkt to /root/nltk_data...\n",
            "[nltk_data]   Package punkt is already up-to-date!\n",
            "[nltk_data] Downloading package wordnet to /root/nltk_data...\n",
            "[nltk_data]   Package wordnet is already up-to-date!\n",
            "[nltk_data] Downloading package averaged_perceptron_tagger to\n",
            "[nltk_data]     /root/nltk_data...\n",
            "[nltk_data]   Package averaged_perceptron_tagger is already up-to-\n",
            "[nltk_data]       date!\n",
            "[nltk_data] Downloading package stopwords to /root/nltk_data...\n",
            "[nltk_data]   Package stopwords is already up-to-date!\n",
            "Loading data...\n",
            "\n",
            "preparing data...\n",
            "unique values in all columns: [1 0 2]unique values in all columns: [0 1]unique values in all columns: [0 1]unique values in all columns: [0 1]unique values in all columns: [0 1]unique values in all columns: [0 1]unique values in all columns: [0 1]unique values in all columns: [0 1]unique values in all columns: [0 1]unique values in all columns: [0]unique values in all columns: [0 1]unique values in all columns: [0 1]unique values in all columns: [0 1]unique values in all columns: [0 1]unique values in all columns: [0 1]unique values in all columns: [0 1]unique values in all columns: [0 1]unique values in all columns: [0 1]unique values in all columns: [0 1]unique values in all columns: [0 1]unique values in all columns: [0 1]unique values in all columns: [0 1]unique values in all columns: [0 1]unique values in all columns: [0 1]unique values in all columns: [0 1]unique values in all columns: [0 1]unique values in all columns: [0 1]unique values in all columns: [0 1]unique values in all columns: [0 1]unique values in all columns: [0 1]unique values in all columns: [0 1]unique values in all columns: [0 1]unique values in all columns: [0 1]unique values in all columns: [0 1]unique values in all columns: [0 1]unique values in all columns: [0 1]\n",
            "\n",
            "\n",
            " after replacing 2 by 1 [1 0]\n",
            "\n",
            "\n",
            "making X & y variables...\n",
            "returning X, y & df...\n",
            "\n",
            "\n",
            "Started tokenizing...\n",
            "\n",
            "\n",
            "Cleaning tokens...\n",
            "\n",
            "\n",
            "Returning tokens...\n",
            "\n",
            "\n",
            "Training Models...\n"
          ],
          "name": "stdout"
        },
        {
          "output_type": "stream",
          "text": [
            "/usr/local/lib/python3.7/dist-packages/joblib/externals/loky/process_executor.py:691: UserWarning: A worker stopped while some jobs were given to the executor. This can be caused by a too short worker timeout or by a memory leak.\n",
            "  \"timeout or by a memory leak.\", UserWarning\n",
            "/usr/local/lib/python3.7/dist-packages/joblib/externals/loky/process_executor.py:691: UserWarning: A worker stopped while some jobs were given to the executor. This can be caused by a too short worker timeout or by a memory leak.\n",
            "  \"timeout or by a memory leak.\", UserWarning\n",
            "/usr/local/lib/python3.7/dist-packages/joblib/externals/loky/process_executor.py:691: UserWarning: A worker stopped while some jobs were given to the executor. This can be caused by a too short worker timeout or by a memory leak.\n",
            "  \"timeout or by a memory leak.\", UserWarning\n"
          ],
          "name": "stderr"
        },
        {
          "output_type": "stream",
          "text": [
            "\n",
            "\n",
            "Model Return...\n",
            "\n",
            "\n",
            "Predicting Model...\n"
          ],
          "name": "stdout"
        },
        {
          "output_type": "stream",
          "text": [
            "/usr/local/lib/python3.7/dist-packages/joblib/externals/loky/process_executor.py:691: UserWarning: A worker stopped while some jobs were given to the executor. This can be caused by a too short worker timeout or by a memory leak.\n",
            "  \"timeout or by a memory leak.\", UserWarning\n"
          ],
          "name": "stderr"
        },
        {
          "output_type": "stream",
          "text": [
            "\n",
            "\n",
            "Displaying Results...\n",
            "\n",
            "Accuracy: 0.9298086702262903\n",
            "\n",
            "\n",
            "\n",
            "Best Parameters: {'clf__estimator__n_neighbors': 2, 'clf__n_jobs': -1}\n",
            "\n",
            " Classification Report\n",
            "                        precision    recall  f1-score   support\n",
            "\n",
            "               related       0.80      0.95      0.87      3978\n",
            "               request       0.84      0.08      0.15       895\n",
            "                 offer       0.00      0.00      0.00        26\n",
            "           aid_related       0.81      0.04      0.08      2131\n",
            "          medical_help       0.33      0.00      0.00       422\n",
            "      medical_products       1.00      0.01      0.02       270\n",
            "     search_and_rescue       0.00      0.00      0.00       127\n",
            "              security       0.00      0.00      0.00        88\n",
            "              military       0.00      0.00      0.00       155\n",
            "           child_alone       0.00      0.00      0.00         0\n",
            "                 water       0.75      0.04      0.08       339\n",
            "                  food       0.87      0.07      0.12       595\n",
            "               shelter       0.86      0.04      0.08       470\n",
            "              clothing       1.00      0.04      0.08        73\n",
            "                 money       1.00      0.01      0.02       104\n",
            "        missing_people       1.00      0.02      0.03        60\n",
            "              refugees       0.00      0.00      0.00       171\n",
            "                 death       1.00      0.01      0.02       237\n",
            "             other_aid       0.48      0.01      0.03       695\n",
            "infrastructure_related       1.00      0.00      0.01       328\n",
            "             transport       0.00      0.00      0.00       240\n",
            "             buildings       1.00      0.01      0.03       267\n",
            "           electricity       0.00      0.00      0.00       122\n",
            "                 tools       0.00      0.00      0.00        32\n",
            "             hospitals       0.00      0.00      0.00        46\n",
            "                 shops       0.00      0.00      0.00        22\n",
            "           aid_centers       0.00      0.00      0.00        67\n",
            "  other_infrastructure       1.00      0.00      0.01       223\n",
            "       weather_related       0.80      0.08      0.14      1438\n",
            "                floods       0.83      0.01      0.02       411\n",
            "                 storm       0.63      0.05      0.08       486\n",
            "                  fire       0.00      0.00      0.00        53\n",
            "            earthquake       0.83      0.14      0.24       478\n",
            "                  cold       1.00      0.01      0.02       117\n",
            "         other_weather       0.25      0.00      0.01       276\n",
            "         direct_report       0.72      0.06      0.11      1021\n",
            "\n",
            "             micro avg       0.80      0.26      0.40     16463\n",
            "             macro avg       0.52      0.05      0.06     16463\n",
            "          weighted avg       0.73      0.26      0.27     16463\n",
            "           samples avg       0.72      0.32      0.39     16463\n",
            "\n"
          ],
          "name": "stdout"
        },
        {
          "output_type": "stream",
          "text": [
            "/usr/local/lib/python3.7/dist-packages/sklearn/metrics/_classification.py:1272: UndefinedMetricWarning: Precision and F-score are ill-defined and being set to 0.0 in labels with no predicted samples. Use `zero_division` parameter to control this behavior.\n",
            "  _warn_prf(average, modifier, msg_start, len(result))\n",
            "/usr/local/lib/python3.7/dist-packages/sklearn/metrics/_classification.py:1272: UndefinedMetricWarning: Recall and F-score are ill-defined and being set to 0.0 in labels with no true samples. Use `zero_division` parameter to control this behavior.\n",
            "  _warn_prf(average, modifier, msg_start, len(result))\n",
            "/usr/local/lib/python3.7/dist-packages/sklearn/metrics/_classification.py:1272: UndefinedMetricWarning: Precision and F-score are ill-defined and being set to 0.0 in samples with no predicted labels. Use `zero_division` parameter to control this behavior.\n",
            "  _warn_prf(average, modifier, msg_start, len(result))\n",
            "/usr/local/lib/python3.7/dist-packages/sklearn/metrics/_classification.py:1272: UndefinedMetricWarning: Recall and F-score are ill-defined and being set to 0.0 in samples with no true labels. Use `zero_division` parameter to control this behavior.\n",
            "  _warn_prf(average, modifier, msg_start, len(result))\n"
          ],
          "name": "stderr"
        }
      ]
    },
    {
      "cell_type": "code",
      "metadata": {
        "id": "FzUxX2WCLTlY"
      },
      "source": [
        ""
      ],
      "execution_count": 17,
      "outputs": []
    },
    {
      "cell_type": "markdown",
      "metadata": {
        "id": "-c8p2n-dp-Ww"
      },
      "source": [
        "### 7. Test your model\n",
        "Show the accuracy, precision, and recall of the tuned model.  \n",
        "\n",
        "Since this project focuses on code quality, process, and  pipelines, there is no minimum performance metric needed to pass. However, make sure to fine tune your models for accuracy, precision and recall to make your project stand out - especially for your portfolio!"
      ]
    },
    {
      "cell_type": "code",
      "metadata": {
        "id": "FsqknkjWp-Wx"
      },
      "source": [
        ""
      ],
      "execution_count": null,
      "outputs": []
    },
    {
      "cell_type": "markdown",
      "metadata": {
        "id": "gdOxkg8Jp-Wx"
      },
      "source": [
        "### 8. Try improving your model further. Here are a few ideas:\n",
        "* try other machine learning algorithms\n",
        "* add other features besides the TF-IDF"
      ]
    },
    {
      "cell_type": "code",
      "metadata": {
        "id": "76H8Q7EDp-Wx"
      },
      "source": [
        ""
      ],
      "execution_count": null,
      "outputs": []
    },
    {
      "cell_type": "markdown",
      "metadata": {
        "id": "5hqv4j82p-Wx"
      },
      "source": [
        "### 9. Export your model as a pickle file"
      ]
    },
    {
      "cell_type": "code",
      "metadata": {
        "id": "hAjWPBLgp-Wy"
      },
      "source": [
        ""
      ],
      "execution_count": null,
      "outputs": []
    },
    {
      "cell_type": "markdown",
      "metadata": {
        "id": "7b0q4HBfp-Wy"
      },
      "source": [
        "### 10. Use this notebook to complete `train.py`\n",
        "Use the template file attached in the Resources folder to write a script that runs the steps above to create a database and export a model based on a new dataset specified by the user."
      ]
    },
    {
      "cell_type": "code",
      "metadata": {
        "id": "iuYcE3DWp-Wy"
      },
      "source": [
        ""
      ],
      "execution_count": null,
      "outputs": []
    }
  ]
}